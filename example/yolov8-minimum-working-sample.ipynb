{
 "cells": [
  {
   "cell_type": "code",
   "execution_count": 1,
   "id": "9863d96f",
   "metadata": {
    "execution": {
     "iopub.execute_input": "2023-06-25T05:02:42.859101Z",
     "iopub.status.busy": "2023-06-25T05:02:42.858454Z",
     "iopub.status.idle": "2023-06-25T05:02:50.338250Z",
     "shell.execute_reply": "2023-06-25T05:02:50.336943Z"
    },
    "papermill": {
     "duration": 7.488426,
     "end_time": "2023-06-25T05:02:50.341069",
     "exception": false,
     "start_time": "2023-06-25T05:02:42.852643",
     "status": "completed"
    },
    "tags": []
   },
   "outputs": [],
   "source": [
    "# !ln -s /kaggle/input/dlsprint2/badlad/images /kaggle/working/datasets/badlad/images\n",
    "# !ln -s /kaggle/input/dlsprint2/badlad/labels/yolov8_format/train /kaggle/working/datasets/badlad/labels"
   ]
  },
  {
   "cell_type": "code",
   "execution_count": 2,
   "id": "72915c8c",
   "metadata": {
    "execution": {
     "iopub.execute_input": "2023-06-25T05:02:50.351899Z",
     "iopub.status.busy": "2023-06-25T05:02:50.350058Z",
     "iopub.status.idle": "2023-06-25T05:02:50.357183Z",
     "shell.execute_reply": "2023-06-25T05:02:50.356298Z"
    },
    "papermill": {
     "duration": 0.014086,
     "end_time": "2023-06-25T05:02:50.359114",
     "exception": false,
     "start_time": "2023-06-25T05:02:50.345028",
     "status": "completed"
    },
    "tags": []
   },
   "outputs": [],
   "source": [
    "# import os\n",
    "# from tqdm import tqdm\n",
    "\n",
    "# def all_files_in_folder_symlink(source_dir, target_dir):\n",
    "#     files = os.listdir(source_dir)\n",
    "\n",
    "#     for file in tqdm(files):\n",
    "#         source_file = os.path.join(source_dir, file)\n",
    "#         target_file = os.path.join(target_dir, file)\n",
    "#         os.symlink(source_file, target_file)\n",
    "\n",
    "    "
   ]
  },
  {
   "cell_type": "code",
   "execution_count": 3,
   "id": "d79d6d6b",
   "metadata": {
    "execution": {
     "iopub.execute_input": "2023-06-25T05:02:50.367937Z",
     "iopub.status.busy": "2023-06-25T05:02:50.367327Z",
     "iopub.status.idle": "2023-06-25T05:02:53.228111Z",
     "shell.execute_reply": "2023-06-25T05:02:53.227160Z"
    },
    "papermill": {
     "duration": 2.868269,
     "end_time": "2023-06-25T05:02:53.231036",
     "exception": false,
     "start_time": "2023-06-25T05:02:50.362767",
     "status": "completed"
    },
    "tags": []
   },
   "outputs": [],
   "source": [
    "# all_files_in_folder_symlink(\"/media/sayan/hdd1/CV/bangla_layout_understanding/yolov8/dataset/labels/training/\",\"/kaggle/working/datasets/badlad/labels/train\")"
   ]
  },
  {
   "cell_type": "code",
   "execution_count": 4,
   "id": "0db82000",
   "metadata": {
    "execution": {
     "iopub.execute_input": "2023-06-25T05:02:53.242161Z",
     "iopub.status.busy": "2023-06-25T05:02:53.241343Z",
     "iopub.status.idle": "2023-06-25T05:02:55.880253Z",
     "shell.execute_reply": "2023-06-25T05:02:55.879255Z"
    },
    "papermill": {
     "duration": 2.646764,
     "end_time": "2023-06-25T05:02:55.882519",
     "exception": false,
     "start_time": "2023-06-25T05:02:53.235755",
     "status": "completed"
    },
    "tags": []
   },
   "outputs": [],
   "source": [
    "# all_files_in_folder_symlink(\"/media/sayan/hdd1/CV/bangla_layout_understanding/yolov8/dataset/labels/training/\",\"/kaggle/working/datasets/badlad/images/train\")\n"
   ]
  },
  {
   "cell_type": "code",
   "execution_count": 5,
   "id": "037a4e6f",
   "metadata": {
    "execution": {
     "iopub.execute_input": "2023-06-25T05:02:55.894210Z",
     "iopub.status.busy": "2023-06-25T05:02:55.893923Z",
     "iopub.status.idle": "2023-06-25T05:02:57.505443Z",
     "shell.execute_reply": "2023-06-25T05:02:57.504407Z"
    },
    "papermill": {
     "duration": 1.619595,
     "end_time": "2023-06-25T05:02:57.507325",
     "exception": false,
     "start_time": "2023-06-25T05:02:55.887730",
     "status": "completed"
    },
    "tags": []
   },
   "outputs": [],
   "source": [
    "# all_files_in_folder_symlink(\"/kaggle/input/dlsprint2/badlad/images/test\",\"/kaggle/working/datasets/badlad/images/test\")\n"
   ]
  },
  {
   "cell_type": "code",
   "execution_count": 6,
   "id": "e938db84",
   "metadata": {
    "execution": {
     "iopub.execute_input": "2023-06-25T05:02:57.520705Z",
     "iopub.status.busy": "2023-06-25T05:02:57.520003Z",
     "iopub.status.idle": "2023-06-25T05:02:57.524365Z",
     "shell.execute_reply": "2023-06-25T05:02:57.523489Z"
    },
    "papermill": {
     "duration": 0.013202,
     "end_time": "2023-06-25T05:02:57.526420",
     "exception": false,
     "start_time": "2023-06-25T05:02:57.513218",
     "status": "completed"
    },
    "tags": []
   },
   "outputs": [],
   "source": [
    "# !tree -d"
   ]
  },
  {
   "cell_type": "code",
   "execution_count": 13,
   "id": "da53cbe1",
   "metadata": {
    "execution": {
     "iopub.execute_input": "2023-06-25T05:02:57.538790Z",
     "iopub.status.busy": "2023-06-25T05:02:57.538530Z",
     "iopub.status.idle": "2023-06-25T05:03:10.602562Z",
     "shell.execute_reply": "2023-06-25T05:03:10.601358Z"
    },
    "papermill": {
     "duration": 13.072941,
     "end_time": "2023-06-25T05:03:10.604948",
     "exception": false,
     "start_time": "2023-06-25T05:02:57.532007",
     "status": "completed"
    },
    "tags": []
   },
   "outputs": [],
   "source": [
    "# !pip install ultralytics -q\n",
    "# !pip install wandb"
   ]
  },
  {
   "cell_type": "code",
   "execution_count": 14,
   "id": "6ee7421f",
   "metadata": {
    "execution": {
     "iopub.execute_input": "2023-06-25T05:03:10.718083Z",
     "iopub.status.busy": "2023-06-25T05:03:10.717730Z",
     "iopub.status.idle": "2023-06-25T05:03:10.724884Z",
     "shell.execute_reply": "2023-06-25T05:03:10.724058Z"
    },
    "papermill": {
     "duration": 0.016768,
     "end_time": "2023-06-25T05:03:10.726989",
     "exception": false,
     "start_time": "2023-06-25T05:03:10.710221",
     "status": "completed"
    },
    "tags": []
   },
   "outputs": [],
   "source": [
    "file_content = \"\"\"\n",
    "path: /media/sayan/hdd1/CV/yolov8/dataset # dataset root dir\n",
    "train: images/training  # train images (relative to 'path') 128 images\n",
    "val: images/validation  # val images (relative to 'path') 128 images\n",
    "test:  images/validation\n",
    "\n",
    "nc: 4\n",
    "\n",
    "# Classes\n",
    "names:\n",
    "  0: paragraph\n",
    "  1: text_box\n",
    "  2: image\n",
    "  3: table\n",
    "\n",
    "\"\"\"\n",
    "\n",
    "with open(\"data/yolov8.yaml\", mode=\"w\") as f:\n",
    "    f.write(file_content)"
   ]
  },
  {
   "cell_type": "code",
   "execution_count": 15,
   "id": "8332b560",
   "metadata": {
    "execution": {
     "iopub.execute_input": "2023-06-25T05:03:10.739728Z",
     "iopub.status.busy": "2023-06-25T05:03:10.739461Z",
     "iopub.status.idle": "2023-06-25T05:03:11.578996Z",
     "shell.execute_reply": "2023-06-25T05:03:11.578158Z"
    },
    "papermill": {
     "duration": 0.848567,
     "end_time": "2023-06-25T05:03:11.581218",
     "exception": false,
     "start_time": "2023-06-25T05:03:10.732651",
     "status": "completed"
    },
    "tags": []
   },
   "outputs": [
    {
     "data": {
      "text/plain": []
     },
     "execution_count": 15,
     "metadata": {},
     "output_type": "execute_result"
    }
   ],
   "source": [
    "import wandb\n",
    "wandb.init(mode=\"disabled\")"
   ]
  },
  {
   "cell_type": "code",
   "execution_count": 16,
   "id": "020adfc2",
   "metadata": {
    "execution": {
     "iopub.execute_input": "2023-06-25T05:03:11.594573Z",
     "iopub.status.busy": "2023-06-25T05:03:11.594276Z",
     "iopub.status.idle": "2023-06-25T09:40:55.769751Z",
     "shell.execute_reply": "2023-06-25T09:40:55.768598Z"
    },
    "papermill": {
     "duration": 16664.186978,
     "end_time": "2023-06-25T09:40:55.774567",
     "exception": false,
     "start_time": "2023-06-25T05:03:11.587589",
     "status": "completed"
    },
    "tags": []
   },
   "outputs": [
    {
     "name": "stderr",
     "output_type": "stream",
     "text": [
      "Ultralytics YOLOv8.0.131 🚀 Python-3.8.17 torch-1.11.0+cu113 CUDA:0 (NVIDIA GeForce RTX 3090 Ti, 24248MiB)\n",
      "WARNING ⚠️ Upgrade to torch>=2.0.0 for deterministic training.\n",
      "\u001b[34m\u001b[1myolo/engine/trainer: \u001b[0mtask=segment, mode=train, model=yolov8m-seg.pt, data=data/yolov8.yaml, epochs=500, patience=50, batch=6, imgsz=1024, save=True, save_period=-1, cache=False, device=None, workers=8, project=None, name=None, exist_ok=False, pretrained=True, optimizer=auto, verbose=True, seed=0, deterministic=True, single_cls=False, rect=False, cos_lr=False, close_mosaic=10, resume=False, amp=True, fraction=1.0, profile=False, overlap_mask=True, mask_ratio=4, dropout=0.0, val=True, split=val, save_json=False, save_hybrid=False, conf=None, iou=0.7, max_det=300, half=False, dnn=False, plots=True, source=None, show=False, save_txt=False, save_conf=False, save_crop=False, show_labels=True, show_conf=True, vid_stride=1, line_width=None, visualize=False, augment=False, agnostic_nms=False, classes=None, retina_masks=False, boxes=True, format=torchscript, keras=False, optimize=False, int8=False, dynamic=False, simplify=False, opset=None, workspace=4, nms=False, lr0=0.01, lrf=0.01, momentum=0.937, weight_decay=0.0005, warmup_epochs=3.0, warmup_momentum=0.8, warmup_bias_lr=0.1, box=7.5, cls=0.5, dfl=1.5, pose=12.0, kobj=1.0, label_smoothing=0.0, nbs=64, hsv_h=0.015, hsv_s=0.7, hsv_v=0.4, degrees=0.0, translate=0.1, scale=0.5, shear=0.0, perspective=0.0, flipud=0.0, fliplr=0.5, mosaic=1.0, mixup=0.0, copy_paste=0.0, cfg=None, v5loader=False, tracker=botsort.yaml, save_dir=runs/segment/train14\n",
      "Overriding model.yaml nc=80 with nc=4\n",
      "\n",
      "                   from  n    params  module                                       arguments                     \n",
      "  0                  -1  1      1392  ultralytics.nn.modules.conv.Conv             [3, 48, 3, 2]                 \n",
      "  1                  -1  1     41664  ultralytics.nn.modules.conv.Conv             [48, 96, 3, 2]                \n",
      "  2                  -1  2    111360  ultralytics.nn.modules.block.C2f             [96, 96, 2, True]             \n",
      "  3                  -1  1    166272  ultralytics.nn.modules.conv.Conv             [96, 192, 3, 2]               \n",
      "  4                  -1  4    813312  ultralytics.nn.modules.block.C2f             [192, 192, 4, True]           \n",
      "  5                  -1  1    664320  ultralytics.nn.modules.conv.Conv             [192, 384, 3, 2]              \n",
      "  6                  -1  4   3248640  ultralytics.nn.modules.block.C2f             [384, 384, 4, True]           \n",
      "  7                  -1  1   1991808  ultralytics.nn.modules.conv.Conv             [384, 576, 3, 2]              \n",
      "  8                  -1  2   3985920  ultralytics.nn.modules.block.C2f             [576, 576, 2, True]           \n",
      "  9                  -1  1    831168  ultralytics.nn.modules.block.SPPF            [576, 576, 5]                 \n",
      " 10                  -1  1         0  torch.nn.modules.upsampling.Upsample         [None, 2, 'nearest']          \n",
      " 11             [-1, 6]  1         0  ultralytics.nn.modules.conv.Concat           [1]                           \n",
      " 12                  -1  2   1993728  ultralytics.nn.modules.block.C2f             [960, 384, 2]                 \n",
      " 13                  -1  1         0  torch.nn.modules.upsampling.Upsample         [None, 2, 'nearest']          \n",
      " 14             [-1, 4]  1         0  ultralytics.nn.modules.conv.Concat           [1]                           \n",
      " 15                  -1  2    517632  ultralytics.nn.modules.block.C2f             [576, 192, 2]                 \n",
      " 16                  -1  1    332160  ultralytics.nn.modules.conv.Conv             [192, 192, 3, 2]              \n",
      " 17            [-1, 12]  1         0  ultralytics.nn.modules.conv.Concat           [1]                           \n",
      " 18                  -1  2   1846272  ultralytics.nn.modules.block.C2f             [576, 384, 2]                 \n",
      " 19                  -1  1   1327872  ultralytics.nn.modules.conv.Conv             [384, 384, 3, 2]              \n",
      " 20             [-1, 9]  1         0  ultralytics.nn.modules.conv.Concat           [1]                           \n",
      " 21                  -1  2   4207104  ultralytics.nn.modules.block.C2f             [960, 576, 2]                 \n",
      " 22        [15, 18, 21]  1   5161340  ultralytics.nn.modules.head.Segment          [4, 32, 192, [192, 384, 576]] \n",
      "YOLOv8m-seg summary: 331 layers, 27241964 parameters, 27241948 gradients, 110.4 GFLOPs\n",
      "\n",
      "Transferred 531/537 items from pretrained weights\n",
      "\u001b[34m\u001b[1mTensorBoard: \u001b[0mStart with 'tensorboard --logdir runs/segment/train14', view at http://localhost:6006/\n",
      "\u001b[34m\u001b[1mAMP: \u001b[0mrunning Automatic Mixed Precision (AMP) checks with YOLOv8n...\n",
      "Downloading https://github.com/ultralytics/assets/releases/download/v0.0.0/yolov8n.pt to yolov8n.pt...\n",
      "100%|██████████████████████████████████████████████████████████████████| 6.23M/6.23M [00:04<00:00, 1.37MB/s]\n",
      "\u001b[34m\u001b[1mAMP: \u001b[0mchecks passed ✅\n",
      "\u001b[34m\u001b[1mtrain: \u001b[0mScanning /media/sayan/hdd1/CV/yolov8/dataset/labels/training... 116 images, 0 backgrounds, 0 corrupt:\u001b[0m\n"
     ]
    },
    {
     "ename": "KeyboardInterrupt",
     "evalue": "",
     "output_type": "error",
     "traceback": [
      "\u001b[0;31m---------------------------------------------------------------------------\u001b[0m",
      "\u001b[0;31mFileNotFoundError\u001b[0m                         Traceback (most recent call last)",
      "File \u001b[0;32m/media/sayan/hdd1/CV/yolov8/ultralytics/yolo/data/dataset.py:108\u001b[0m, in \u001b[0;36mYOLODataset.get_labels\u001b[0;34m(self)\u001b[0m\n\u001b[1;32m    107\u001b[0m gc\u001b[38;5;241m.\u001b[39mdisable()  \u001b[38;5;66;03m# reduce pickle load time https://github.com/ultralytics/ultralytics/pull/1585\u001b[39;00m\n\u001b[0;32m--> 108\u001b[0m cache, exists \u001b[38;5;241m=\u001b[39m \u001b[43mnp\u001b[49m\u001b[38;5;241;43m.\u001b[39;49m\u001b[43mload\u001b[49m\u001b[43m(\u001b[49m\u001b[38;5;28;43mstr\u001b[39;49m\u001b[43m(\u001b[49m\u001b[43mcache_path\u001b[49m\u001b[43m)\u001b[49m\u001b[43m,\u001b[49m\u001b[43m \u001b[49m\u001b[43mallow_pickle\u001b[49m\u001b[38;5;241;43m=\u001b[39;49m\u001b[38;5;28;43;01mTrue\u001b[39;49;00m\u001b[43m)\u001b[49m\u001b[38;5;241m.\u001b[39mitem(), \u001b[38;5;28;01mTrue\u001b[39;00m  \u001b[38;5;66;03m# load dict\u001b[39;00m\n\u001b[1;32m    109\u001b[0m gc\u001b[38;5;241m.\u001b[39menable()\n",
      "File \u001b[0;32m~/anaconda3/envs/yolov8/lib/python3.8/site-packages/numpy/lib/npyio.py:405\u001b[0m, in \u001b[0;36mload\u001b[0;34m(file, mmap_mode, allow_pickle, fix_imports, encoding, max_header_size)\u001b[0m\n\u001b[1;32m    404\u001b[0m \u001b[38;5;28;01melse\u001b[39;00m:\n\u001b[0;32m--> 405\u001b[0m     fid \u001b[38;5;241m=\u001b[39m stack\u001b[38;5;241m.\u001b[39menter_context(\u001b[38;5;28;43mopen\u001b[39;49m\u001b[43m(\u001b[49m\u001b[43mos_fspath\u001b[49m\u001b[43m(\u001b[49m\u001b[43mfile\u001b[49m\u001b[43m)\u001b[49m\u001b[43m,\u001b[49m\u001b[43m \u001b[49m\u001b[38;5;124;43m\"\u001b[39;49m\u001b[38;5;124;43mrb\u001b[39;49m\u001b[38;5;124;43m\"\u001b[39;49m\u001b[43m)\u001b[49m)\n\u001b[1;32m    406\u001b[0m     own_fid \u001b[38;5;241m=\u001b[39m \u001b[38;5;28;01mTrue\u001b[39;00m\n",
      "\u001b[0;31mFileNotFoundError\u001b[0m: [Errno 2] No such file or directory: '/media/sayan/hdd1/CV/yolov8/dataset/labels/training.cache'",
      "\nDuring handling of the above exception, another exception occurred:\n",
      "\u001b[0;31mIndexError\u001b[0m                                Traceback (most recent call last)",
      "File \u001b[0;32m~/anaconda3/envs/yolov8/lib/python3.8/multiprocessing/pool.py:851\u001b[0m, in \u001b[0;36mIMapIterator.next\u001b[0;34m(self, timeout)\u001b[0m\n\u001b[1;32m    850\u001b[0m \u001b[38;5;28;01mtry\u001b[39;00m:\n\u001b[0;32m--> 851\u001b[0m     item \u001b[38;5;241m=\u001b[39m \u001b[38;5;28;43mself\u001b[39;49m\u001b[38;5;241;43m.\u001b[39;49m\u001b[43m_items\u001b[49m\u001b[38;5;241;43m.\u001b[39;49m\u001b[43mpopleft\u001b[49m\u001b[43m(\u001b[49m\u001b[43m)\u001b[49m\n\u001b[1;32m    852\u001b[0m \u001b[38;5;28;01mexcept\u001b[39;00m \u001b[38;5;167;01mIndexError\u001b[39;00m:\n",
      "\u001b[0;31mIndexError\u001b[0m: pop from an empty deque",
      "\nDuring handling of the above exception, another exception occurred:\n",
      "\u001b[0;31mKeyboardInterrupt\u001b[0m                         Traceback (most recent call last)",
      "Cell \u001b[0;32mIn[16], line 5\u001b[0m\n\u001b[1;32m      2\u001b[0m \u001b[38;5;66;03m# from ultralytics.yolo.engine.model import YOLO\u001b[39;00m\n\u001b[1;32m      4\u001b[0m model \u001b[38;5;241m=\u001b[39m YOLO(\u001b[38;5;124m\"\u001b[39m\u001b[38;5;124myolov8m-seg.pt\u001b[39m\u001b[38;5;124m\"\u001b[39m)\n\u001b[0;32m----> 5\u001b[0m \u001b[43mmodel\u001b[49m\u001b[38;5;241;43m.\u001b[39;49m\u001b[43mtrain\u001b[49m\u001b[43m(\u001b[49m\u001b[43mdata\u001b[49m\u001b[38;5;241;43m=\u001b[39;49m\u001b[38;5;124;43m\"\u001b[39;49m\u001b[38;5;124;43mdata/yolov8.yaml\u001b[39;49m\u001b[38;5;124;43m\"\u001b[39;49m\u001b[43m,\u001b[49m\u001b[43m \u001b[49m\u001b[43mepochs\u001b[49m\u001b[38;5;241;43m=\u001b[39;49m\u001b[38;5;241;43m500\u001b[39;49m\u001b[43m,\u001b[49m\u001b[43m \u001b[49m\u001b[43mimgsz\u001b[49m\u001b[38;5;241;43m=\u001b[39;49m\u001b[38;5;241;43m1024\u001b[39;49m\u001b[43m,\u001b[49m\u001b[43m \u001b[49m\u001b[43mbatch\u001b[49m\u001b[38;5;241;43m=\u001b[39;49m\u001b[38;5;241;43m6\u001b[39;49m\u001b[43m)\u001b[49m\n",
      "File \u001b[0;32m/media/sayan/hdd1/CV/yolov8/ultralytics/yolo/engine/model.py:373\u001b[0m, in \u001b[0;36mYOLO.train\u001b[0;34m(self, **kwargs)\u001b[0m\n\u001b[1;32m    371\u001b[0m     \u001b[38;5;28mself\u001b[39m\u001b[38;5;241m.\u001b[39mmodel \u001b[38;5;241m=\u001b[39m \u001b[38;5;28mself\u001b[39m\u001b[38;5;241m.\u001b[39mtrainer\u001b[38;5;241m.\u001b[39mmodel\n\u001b[1;32m    372\u001b[0m \u001b[38;5;28mself\u001b[39m\u001b[38;5;241m.\u001b[39mtrainer\u001b[38;5;241m.\u001b[39mhub_session \u001b[38;5;241m=\u001b[39m \u001b[38;5;28mself\u001b[39m\u001b[38;5;241m.\u001b[39msession  \u001b[38;5;66;03m# attach optional HUB session\u001b[39;00m\n\u001b[0;32m--> 373\u001b[0m \u001b[38;5;28;43mself\u001b[39;49m\u001b[38;5;241;43m.\u001b[39;49m\u001b[43mtrainer\u001b[49m\u001b[38;5;241;43m.\u001b[39;49m\u001b[43mtrain\u001b[49m\u001b[43m(\u001b[49m\u001b[43m)\u001b[49m\n\u001b[1;32m    374\u001b[0m \u001b[38;5;66;03m# Update model and cfg after training\u001b[39;00m\n\u001b[1;32m    375\u001b[0m \u001b[38;5;28;01mif\u001b[39;00m RANK \u001b[38;5;129;01min\u001b[39;00m (\u001b[38;5;241m-\u001b[39m\u001b[38;5;241m1\u001b[39m, \u001b[38;5;241m0\u001b[39m):\n",
      "File \u001b[0;32m/media/sayan/hdd1/CV/yolov8/ultralytics/yolo/engine/trainer.py:192\u001b[0m, in \u001b[0;36mBaseTrainer.train\u001b[0;34m(self)\u001b[0m\n\u001b[1;32m    190\u001b[0m         ddp_cleanup(\u001b[38;5;28mself\u001b[39m, \u001b[38;5;28mstr\u001b[39m(file))\n\u001b[1;32m    191\u001b[0m \u001b[38;5;28;01melse\u001b[39;00m:\n\u001b[0;32m--> 192\u001b[0m     \u001b[38;5;28;43mself\u001b[39;49m\u001b[38;5;241;43m.\u001b[39;49m\u001b[43m_do_train\u001b[49m\u001b[43m(\u001b[49m\u001b[43mworld_size\u001b[49m\u001b[43m)\u001b[49m\n",
      "File \u001b[0;32m/media/sayan/hdd1/CV/yolov8/ultralytics/yolo/engine/trainer.py:276\u001b[0m, in \u001b[0;36mBaseTrainer._do_train\u001b[0;34m(self, world_size)\u001b[0m\n\u001b[1;32m    273\u001b[0m \u001b[38;5;28;01mif\u001b[39;00m world_size \u001b[38;5;241m>\u001b[39m \u001b[38;5;241m1\u001b[39m:\n\u001b[1;32m    274\u001b[0m     \u001b[38;5;28mself\u001b[39m\u001b[38;5;241m.\u001b[39m_setup_ddp(world_size)\n\u001b[0;32m--> 276\u001b[0m \u001b[38;5;28;43mself\u001b[39;49m\u001b[38;5;241;43m.\u001b[39;49m\u001b[43m_setup_train\u001b[49m\u001b[43m(\u001b[49m\u001b[43mworld_size\u001b[49m\u001b[43m)\u001b[49m\n\u001b[1;32m    278\u001b[0m \u001b[38;5;28mself\u001b[39m\u001b[38;5;241m.\u001b[39mepoch_time \u001b[38;5;241m=\u001b[39m \u001b[38;5;28;01mNone\u001b[39;00m\n\u001b[1;32m    279\u001b[0m \u001b[38;5;28mself\u001b[39m\u001b[38;5;241m.\u001b[39mepoch_time_start \u001b[38;5;241m=\u001b[39m time\u001b[38;5;241m.\u001b[39mtime()\n",
      "File \u001b[0;32m/media/sayan/hdd1/CV/yolov8/ultralytics/yolo/engine/trainer.py:240\u001b[0m, in \u001b[0;36mBaseTrainer._setup_train\u001b[0;34m(self, world_size)\u001b[0m\n\u001b[1;32m    238\u001b[0m \u001b[38;5;66;03m# Dataloaders\u001b[39;00m\n\u001b[1;32m    239\u001b[0m batch_size \u001b[38;5;241m=\u001b[39m \u001b[38;5;28mself\u001b[39m\u001b[38;5;241m.\u001b[39mbatch_size \u001b[38;5;241m/\u001b[39m\u001b[38;5;241m/\u001b[39m \u001b[38;5;28mmax\u001b[39m(world_size, \u001b[38;5;241m1\u001b[39m)\n\u001b[0;32m--> 240\u001b[0m \u001b[38;5;28mself\u001b[39m\u001b[38;5;241m.\u001b[39mtrain_loader \u001b[38;5;241m=\u001b[39m \u001b[38;5;28;43mself\u001b[39;49m\u001b[38;5;241;43m.\u001b[39;49m\u001b[43mget_dataloader\u001b[49m\u001b[43m(\u001b[49m\u001b[38;5;28;43mself\u001b[39;49m\u001b[38;5;241;43m.\u001b[39;49m\u001b[43mtrainset\u001b[49m\u001b[43m,\u001b[49m\u001b[43m \u001b[49m\u001b[43mbatch_size\u001b[49m\u001b[38;5;241;43m=\u001b[39;49m\u001b[43mbatch_size\u001b[49m\u001b[43m,\u001b[49m\u001b[43m \u001b[49m\u001b[43mrank\u001b[49m\u001b[38;5;241;43m=\u001b[39;49m\u001b[43mRANK\u001b[49m\u001b[43m,\u001b[49m\u001b[43m \u001b[49m\u001b[43mmode\u001b[49m\u001b[38;5;241;43m=\u001b[39;49m\u001b[38;5;124;43m'\u001b[39;49m\u001b[38;5;124;43mtrain\u001b[39;49m\u001b[38;5;124;43m'\u001b[39;49m\u001b[43m)\u001b[49m\n\u001b[1;32m    241\u001b[0m \u001b[38;5;28;01mif\u001b[39;00m RANK \u001b[38;5;129;01min\u001b[39;00m (\u001b[38;5;241m-\u001b[39m\u001b[38;5;241m1\u001b[39m, \u001b[38;5;241m0\u001b[39m):\n\u001b[1;32m    242\u001b[0m     \u001b[38;5;28mself\u001b[39m\u001b[38;5;241m.\u001b[39mtest_loader \u001b[38;5;241m=\u001b[39m \u001b[38;5;28mself\u001b[39m\u001b[38;5;241m.\u001b[39mget_dataloader(\u001b[38;5;28mself\u001b[39m\u001b[38;5;241m.\u001b[39mtestset, batch_size\u001b[38;5;241m=\u001b[39mbatch_size \u001b[38;5;241m*\u001b[39m \u001b[38;5;241m2\u001b[39m, rank\u001b[38;5;241m=\u001b[39m\u001b[38;5;241m-\u001b[39m\u001b[38;5;241m1\u001b[39m, mode\u001b[38;5;241m=\u001b[39m\u001b[38;5;124m'\u001b[39m\u001b[38;5;124mval\u001b[39m\u001b[38;5;124m'\u001b[39m)\n",
      "File \u001b[0;32m/media/sayan/hdd1/CV/yolov8/ultralytics/yolo/v8/detect/train.py:54\u001b[0m, in \u001b[0;36mDetectionTrainer.get_dataloader\u001b[0;34m(self, dataset_path, batch_size, rank, mode)\u001b[0m\n\u001b[1;32m     52\u001b[0m \u001b[38;5;28;01massert\u001b[39;00m mode \u001b[38;5;129;01min\u001b[39;00m [\u001b[38;5;124m'\u001b[39m\u001b[38;5;124mtrain\u001b[39m\u001b[38;5;124m'\u001b[39m, \u001b[38;5;124m'\u001b[39m\u001b[38;5;124mval\u001b[39m\u001b[38;5;124m'\u001b[39m]\n\u001b[1;32m     53\u001b[0m \u001b[38;5;28;01mwith\u001b[39;00m torch_distributed_zero_first(rank):  \u001b[38;5;66;03m# init dataset *.cache only once if DDP\u001b[39;00m\n\u001b[0;32m---> 54\u001b[0m     dataset \u001b[38;5;241m=\u001b[39m \u001b[38;5;28;43mself\u001b[39;49m\u001b[38;5;241;43m.\u001b[39;49m\u001b[43mbuild_dataset\u001b[49m\u001b[43m(\u001b[49m\u001b[43mdataset_path\u001b[49m\u001b[43m,\u001b[49m\u001b[43m \u001b[49m\u001b[43mmode\u001b[49m\u001b[43m,\u001b[49m\u001b[43m \u001b[49m\u001b[43mbatch_size\u001b[49m\u001b[43m)\u001b[49m\n\u001b[1;32m     55\u001b[0m shuffle \u001b[38;5;241m=\u001b[39m mode \u001b[38;5;241m==\u001b[39m \u001b[38;5;124m'\u001b[39m\u001b[38;5;124mtrain\u001b[39m\u001b[38;5;124m'\u001b[39m\n\u001b[1;32m     56\u001b[0m \u001b[38;5;28;01mif\u001b[39;00m \u001b[38;5;28mgetattr\u001b[39m(dataset, \u001b[38;5;124m'\u001b[39m\u001b[38;5;124mrect\u001b[39m\u001b[38;5;124m'\u001b[39m, \u001b[38;5;28;01mFalse\u001b[39;00m) \u001b[38;5;129;01mand\u001b[39;00m shuffle:\n",
      "File \u001b[0;32m/media/sayan/hdd1/CV/yolov8/ultralytics/yolo/v8/detect/train.py:28\u001b[0m, in \u001b[0;36mDetectionTrainer.build_dataset\u001b[0;34m(self, img_path, mode, batch)\u001b[0m\n\u001b[1;32m     20\u001b[0m \u001b[38;5;250m\u001b[39m\u001b[38;5;124;03m\"\"\"Build YOLO Dataset\u001b[39;00m\n\u001b[1;32m     21\u001b[0m \n\u001b[1;32m     22\u001b[0m \u001b[38;5;124;03mArgs:\u001b[39;00m\n\u001b[0;32m   (...)\u001b[0m\n\u001b[1;32m     25\u001b[0m \u001b[38;5;124;03m    batch (int, optional): Size of batches, this is for `rect`. Defaults to None.\u001b[39;00m\n\u001b[1;32m     26\u001b[0m \u001b[38;5;124;03m\"\"\"\u001b[39;00m\n\u001b[1;32m     27\u001b[0m gs \u001b[38;5;241m=\u001b[39m \u001b[38;5;28mmax\u001b[39m(\u001b[38;5;28mint\u001b[39m(de_parallel(\u001b[38;5;28mself\u001b[39m\u001b[38;5;241m.\u001b[39mmodel)\u001b[38;5;241m.\u001b[39mstride\u001b[38;5;241m.\u001b[39mmax() \u001b[38;5;28;01mif\u001b[39;00m \u001b[38;5;28mself\u001b[39m\u001b[38;5;241m.\u001b[39mmodel \u001b[38;5;28;01melse\u001b[39;00m \u001b[38;5;241m0\u001b[39m), \u001b[38;5;241m32\u001b[39m)\n\u001b[0;32m---> 28\u001b[0m \u001b[38;5;28;01mreturn\u001b[39;00m \u001b[43mbuild_yolo_dataset\u001b[49m\u001b[43m(\u001b[49m\u001b[38;5;28;43mself\u001b[39;49m\u001b[38;5;241;43m.\u001b[39;49m\u001b[43margs\u001b[49m\u001b[43m,\u001b[49m\u001b[43m \u001b[49m\u001b[43mimg_path\u001b[49m\u001b[43m,\u001b[49m\u001b[43m \u001b[49m\u001b[43mbatch\u001b[49m\u001b[43m,\u001b[49m\u001b[43m \u001b[49m\u001b[38;5;28;43mself\u001b[39;49m\u001b[38;5;241;43m.\u001b[39;49m\u001b[43mdata\u001b[49m\u001b[43m,\u001b[49m\u001b[43m \u001b[49m\u001b[43mmode\u001b[49m\u001b[38;5;241;43m=\u001b[39;49m\u001b[43mmode\u001b[49m\u001b[43m,\u001b[49m\u001b[43m \u001b[49m\u001b[43mrect\u001b[49m\u001b[38;5;241;43m=\u001b[39;49m\u001b[43mmode\u001b[49m\u001b[43m \u001b[49m\u001b[38;5;241;43m==\u001b[39;49m\u001b[43m \u001b[49m\u001b[38;5;124;43m'\u001b[39;49m\u001b[38;5;124;43mval\u001b[39;49m\u001b[38;5;124;43m'\u001b[39;49m\u001b[43m,\u001b[49m\u001b[43m \u001b[49m\u001b[43mstride\u001b[49m\u001b[38;5;241;43m=\u001b[39;49m\u001b[43mgs\u001b[49m\u001b[43m)\u001b[49m\n",
      "File \u001b[0;32m/media/sayan/hdd1/CV/yolov8/ultralytics/yolo/data/build.py:74\u001b[0m, in \u001b[0;36mbuild_yolo_dataset\u001b[0;34m(cfg, img_path, batch, data, mode, rect, stride)\u001b[0m\n\u001b[1;32m     72\u001b[0m \u001b[38;5;28;01mdef\u001b[39;00m \u001b[38;5;21mbuild_yolo_dataset\u001b[39m(cfg, img_path, batch, data, mode\u001b[38;5;241m=\u001b[39m\u001b[38;5;124m'\u001b[39m\u001b[38;5;124mtrain\u001b[39m\u001b[38;5;124m'\u001b[39m, rect\u001b[38;5;241m=\u001b[39m\u001b[38;5;28;01mFalse\u001b[39;00m, stride\u001b[38;5;241m=\u001b[39m\u001b[38;5;241m32\u001b[39m):\n\u001b[1;32m     73\u001b[0m \u001b[38;5;250m    \u001b[39m\u001b[38;5;124;03m\"\"\"Build YOLO Dataset\"\"\"\u001b[39;00m\n\u001b[0;32m---> 74\u001b[0m     \u001b[38;5;28;01mreturn\u001b[39;00m \u001b[43mYOLODataset\u001b[49m\u001b[43m(\u001b[49m\n\u001b[1;32m     75\u001b[0m \u001b[43m        \u001b[49m\u001b[43mimg_path\u001b[49m\u001b[38;5;241;43m=\u001b[39;49m\u001b[43mimg_path\u001b[49m\u001b[43m,\u001b[49m\n\u001b[1;32m     76\u001b[0m \u001b[43m        \u001b[49m\u001b[43mimgsz\u001b[49m\u001b[38;5;241;43m=\u001b[39;49m\u001b[43mcfg\u001b[49m\u001b[38;5;241;43m.\u001b[39;49m\u001b[43mimgsz\u001b[49m\u001b[43m,\u001b[49m\n\u001b[1;32m     77\u001b[0m \u001b[43m        \u001b[49m\u001b[43mbatch_size\u001b[49m\u001b[38;5;241;43m=\u001b[39;49m\u001b[43mbatch\u001b[49m\u001b[43m,\u001b[49m\n\u001b[1;32m     78\u001b[0m \u001b[43m        \u001b[49m\u001b[43maugment\u001b[49m\u001b[38;5;241;43m=\u001b[39;49m\u001b[43mmode\u001b[49m\u001b[43m \u001b[49m\u001b[38;5;241;43m==\u001b[39;49m\u001b[43m \u001b[49m\u001b[38;5;124;43m'\u001b[39;49m\u001b[38;5;124;43mtrain\u001b[39;49m\u001b[38;5;124;43m'\u001b[39;49m\u001b[43m,\u001b[49m\u001b[43m  \u001b[49m\u001b[38;5;66;43;03m# augmentation\u001b[39;49;00m\n\u001b[1;32m     79\u001b[0m \u001b[43m        \u001b[49m\u001b[43mhyp\u001b[49m\u001b[38;5;241;43m=\u001b[39;49m\u001b[43mcfg\u001b[49m\u001b[43m,\u001b[49m\u001b[43m  \u001b[49m\u001b[38;5;66;43;03m# TODO: probably add a get_hyps_from_cfg function\u001b[39;49;00m\n\u001b[1;32m     80\u001b[0m \u001b[43m        \u001b[49m\u001b[43mrect\u001b[49m\u001b[38;5;241;43m=\u001b[39;49m\u001b[43mcfg\u001b[49m\u001b[38;5;241;43m.\u001b[39;49m\u001b[43mrect\u001b[49m\u001b[43m \u001b[49m\u001b[38;5;129;43;01mor\u001b[39;49;00m\u001b[43m \u001b[49m\u001b[43mrect\u001b[49m\u001b[43m,\u001b[49m\u001b[43m  \u001b[49m\u001b[38;5;66;43;03m# rectangular batches\u001b[39;49;00m\n\u001b[1;32m     81\u001b[0m \u001b[43m        \u001b[49m\u001b[43mcache\u001b[49m\u001b[38;5;241;43m=\u001b[39;49m\u001b[43mcfg\u001b[49m\u001b[38;5;241;43m.\u001b[39;49m\u001b[43mcache\u001b[49m\u001b[43m \u001b[49m\u001b[38;5;129;43;01mor\u001b[39;49;00m\u001b[43m \u001b[49m\u001b[38;5;28;43;01mNone\u001b[39;49;00m\u001b[43m,\u001b[49m\n\u001b[1;32m     82\u001b[0m \u001b[43m        \u001b[49m\u001b[43msingle_cls\u001b[49m\u001b[38;5;241;43m=\u001b[39;49m\u001b[43mcfg\u001b[49m\u001b[38;5;241;43m.\u001b[39;49m\u001b[43msingle_cls\u001b[49m\u001b[43m \u001b[49m\u001b[38;5;129;43;01mor\u001b[39;49;00m\u001b[43m \u001b[49m\u001b[38;5;28;43;01mFalse\u001b[39;49;00m\u001b[43m,\u001b[49m\n\u001b[1;32m     83\u001b[0m \u001b[43m        \u001b[49m\u001b[43mstride\u001b[49m\u001b[38;5;241;43m=\u001b[39;49m\u001b[38;5;28;43mint\u001b[39;49m\u001b[43m(\u001b[49m\u001b[43mstride\u001b[49m\u001b[43m)\u001b[49m\u001b[43m,\u001b[49m\n\u001b[1;32m     84\u001b[0m \u001b[43m        \u001b[49m\u001b[43mpad\u001b[49m\u001b[38;5;241;43m=\u001b[39;49m\u001b[38;5;241;43m0.0\u001b[39;49m\u001b[43m \u001b[49m\u001b[38;5;28;43;01mif\u001b[39;49;00m\u001b[43m \u001b[49m\u001b[43mmode\u001b[49m\u001b[43m \u001b[49m\u001b[38;5;241;43m==\u001b[39;49m\u001b[43m \u001b[49m\u001b[38;5;124;43m'\u001b[39;49m\u001b[38;5;124;43mtrain\u001b[39;49m\u001b[38;5;124;43m'\u001b[39;49m\u001b[43m \u001b[49m\u001b[38;5;28;43;01melse\u001b[39;49;00m\u001b[43m \u001b[49m\u001b[38;5;241;43m0.5\u001b[39;49m\u001b[43m,\u001b[49m\n\u001b[1;32m     85\u001b[0m \u001b[43m        \u001b[49m\u001b[43mprefix\u001b[49m\u001b[38;5;241;43m=\u001b[39;49m\u001b[43mcolorstr\u001b[49m\u001b[43m(\u001b[49m\u001b[38;5;124;43mf\u001b[39;49m\u001b[38;5;124;43m'\u001b[39;49m\u001b[38;5;132;43;01m{\u001b[39;49;00m\u001b[43mmode\u001b[49m\u001b[38;5;132;43;01m}\u001b[39;49;00m\u001b[38;5;124;43m: \u001b[39;49m\u001b[38;5;124;43m'\u001b[39;49m\u001b[43m)\u001b[49m\u001b[43m,\u001b[49m\n\u001b[1;32m     86\u001b[0m \u001b[43m        \u001b[49m\u001b[43muse_segments\u001b[49m\u001b[38;5;241;43m=\u001b[39;49m\u001b[43mcfg\u001b[49m\u001b[38;5;241;43m.\u001b[39;49m\u001b[43mtask\u001b[49m\u001b[43m \u001b[49m\u001b[38;5;241;43m==\u001b[39;49m\u001b[43m \u001b[49m\u001b[38;5;124;43m'\u001b[39;49m\u001b[38;5;124;43msegment\u001b[39;49m\u001b[38;5;124;43m'\u001b[39;49m\u001b[43m,\u001b[49m\n\u001b[1;32m     87\u001b[0m \u001b[43m        \u001b[49m\u001b[43muse_keypoints\u001b[49m\u001b[38;5;241;43m=\u001b[39;49m\u001b[43mcfg\u001b[49m\u001b[38;5;241;43m.\u001b[39;49m\u001b[43mtask\u001b[49m\u001b[43m \u001b[49m\u001b[38;5;241;43m==\u001b[39;49m\u001b[43m \u001b[49m\u001b[38;5;124;43m'\u001b[39;49m\u001b[38;5;124;43mpose\u001b[39;49m\u001b[38;5;124;43m'\u001b[39;49m\u001b[43m,\u001b[49m\n\u001b[1;32m     88\u001b[0m \u001b[43m        \u001b[49m\u001b[43mclasses\u001b[49m\u001b[38;5;241;43m=\u001b[39;49m\u001b[43mcfg\u001b[49m\u001b[38;5;241;43m.\u001b[39;49m\u001b[43mclasses\u001b[49m\u001b[43m,\u001b[49m\n\u001b[1;32m     89\u001b[0m \u001b[43m        \u001b[49m\u001b[43mdata\u001b[49m\u001b[38;5;241;43m=\u001b[39;49m\u001b[43mdata\u001b[49m\u001b[43m,\u001b[49m\n\u001b[1;32m     90\u001b[0m \u001b[43m        \u001b[49m\u001b[43mfraction\u001b[49m\u001b[38;5;241;43m=\u001b[39;49m\u001b[43mcfg\u001b[49m\u001b[38;5;241;43m.\u001b[39;49m\u001b[43mfraction\u001b[49m\u001b[43m \u001b[49m\u001b[38;5;28;43;01mif\u001b[39;49;00m\u001b[43m \u001b[49m\u001b[43mmode\u001b[49m\u001b[43m \u001b[49m\u001b[38;5;241;43m==\u001b[39;49m\u001b[43m \u001b[49m\u001b[38;5;124;43m'\u001b[39;49m\u001b[38;5;124;43mtrain\u001b[39;49m\u001b[38;5;124;43m'\u001b[39;49m\u001b[43m \u001b[49m\u001b[38;5;28;43;01melse\u001b[39;49;00m\u001b[43m \u001b[49m\u001b[38;5;241;43m1.0\u001b[39;49m\u001b[43m)\u001b[49m\n",
      "File \u001b[0;32m/media/sayan/hdd1/CV/yolov8/ultralytics/yolo/data/dataset.py:39\u001b[0m, in \u001b[0;36mYOLODataset.__init__\u001b[0;34m(self, data, use_segments, use_keypoints, *args, **kwargs)\u001b[0m\n\u001b[1;32m     37\u001b[0m \u001b[38;5;28mself\u001b[39m\u001b[38;5;241m.\u001b[39mdata \u001b[38;5;241m=\u001b[39m data\n\u001b[1;32m     38\u001b[0m \u001b[38;5;28;01massert\u001b[39;00m \u001b[38;5;129;01mnot\u001b[39;00m (\u001b[38;5;28mself\u001b[39m\u001b[38;5;241m.\u001b[39muse_segments \u001b[38;5;129;01mand\u001b[39;00m \u001b[38;5;28mself\u001b[39m\u001b[38;5;241m.\u001b[39muse_keypoints), \u001b[38;5;124m'\u001b[39m\u001b[38;5;124mCan not use both segments and keypoints.\u001b[39m\u001b[38;5;124m'\u001b[39m\n\u001b[0;32m---> 39\u001b[0m \u001b[38;5;28;43msuper\u001b[39;49m\u001b[43m(\u001b[49m\u001b[43m)\u001b[49m\u001b[38;5;241;43m.\u001b[39;49m\u001b[38;5;21;43m__init__\u001b[39;49m\u001b[43m(\u001b[49m\u001b[38;5;241;43m*\u001b[39;49m\u001b[43margs\u001b[49m\u001b[43m,\u001b[49m\u001b[43m \u001b[49m\u001b[38;5;241;43m*\u001b[39;49m\u001b[38;5;241;43m*\u001b[39;49m\u001b[43mkwargs\u001b[49m\u001b[43m)\u001b[49m\n",
      "File \u001b[0;32m/media/sayan/hdd1/CV/yolov8/ultralytics/yolo/data/base.py:72\u001b[0m, in \u001b[0;36mBaseDataset.__init__\u001b[0;34m(self, img_path, imgsz, cache, augment, hyp, prefix, rect, batch_size, stride, pad, single_cls, classes, fraction)\u001b[0m\n\u001b[1;32m     70\u001b[0m \u001b[38;5;28mself\u001b[39m\u001b[38;5;241m.\u001b[39mfraction \u001b[38;5;241m=\u001b[39m fraction\n\u001b[1;32m     71\u001b[0m \u001b[38;5;28mself\u001b[39m\u001b[38;5;241m.\u001b[39mim_files \u001b[38;5;241m=\u001b[39m \u001b[38;5;28mself\u001b[39m\u001b[38;5;241m.\u001b[39mget_img_files(\u001b[38;5;28mself\u001b[39m\u001b[38;5;241m.\u001b[39mimg_path)\n\u001b[0;32m---> 72\u001b[0m \u001b[38;5;28mself\u001b[39m\u001b[38;5;241m.\u001b[39mlabels \u001b[38;5;241m=\u001b[39m \u001b[38;5;28;43mself\u001b[39;49m\u001b[38;5;241;43m.\u001b[39;49m\u001b[43mget_labels\u001b[49m\u001b[43m(\u001b[49m\u001b[43m)\u001b[49m\n\u001b[1;32m     73\u001b[0m \u001b[38;5;28mself\u001b[39m\u001b[38;5;241m.\u001b[39mupdate_labels(include_class\u001b[38;5;241m=\u001b[39mclasses)  \u001b[38;5;66;03m# single_cls and include_class\u001b[39;00m\n\u001b[1;32m     74\u001b[0m \u001b[38;5;28mself\u001b[39m\u001b[38;5;241m.\u001b[39mni \u001b[38;5;241m=\u001b[39m \u001b[38;5;28mlen\u001b[39m(\u001b[38;5;28mself\u001b[39m\u001b[38;5;241m.\u001b[39mlabels)  \u001b[38;5;66;03m# number of images\u001b[39;00m\n",
      "File \u001b[0;32m/media/sayan/hdd1/CV/yolov8/ultralytics/yolo/data/dataset.py:113\u001b[0m, in \u001b[0;36mYOLODataset.get_labels\u001b[0;34m(self)\u001b[0m\n\u001b[1;32m    111\u001b[0m     \u001b[38;5;28;01massert\u001b[39;00m cache[\u001b[38;5;124m'\u001b[39m\u001b[38;5;124mhash\u001b[39m\u001b[38;5;124m'\u001b[39m] \u001b[38;5;241m==\u001b[39m get_hash(\u001b[38;5;28mself\u001b[39m\u001b[38;5;241m.\u001b[39mlabel_files \u001b[38;5;241m+\u001b[39m \u001b[38;5;28mself\u001b[39m\u001b[38;5;241m.\u001b[39mim_files)  \u001b[38;5;66;03m# identical hash\u001b[39;00m\n\u001b[1;32m    112\u001b[0m \u001b[38;5;28;01mexcept\u001b[39;00m (\u001b[38;5;167;01mFileNotFoundError\u001b[39;00m, \u001b[38;5;167;01mAssertionError\u001b[39;00m, \u001b[38;5;167;01mAttributeError\u001b[39;00m):\n\u001b[0;32m--> 113\u001b[0m     cache, exists \u001b[38;5;241m=\u001b[39m \u001b[38;5;28;43mself\u001b[39;49m\u001b[38;5;241;43m.\u001b[39;49m\u001b[43mcache_labels\u001b[49m\u001b[43m(\u001b[49m\u001b[43mcache_path\u001b[49m\u001b[43m)\u001b[49m, \u001b[38;5;28;01mFalse\u001b[39;00m  \u001b[38;5;66;03m# run cache ops\u001b[39;00m\n\u001b[1;32m    115\u001b[0m \u001b[38;5;66;03m# Display cache\u001b[39;00m\n\u001b[1;32m    116\u001b[0m nf, nm, ne, nc, n \u001b[38;5;241m=\u001b[39m cache\u001b[38;5;241m.\u001b[39mpop(\u001b[38;5;124m'\u001b[39m\u001b[38;5;124mresults\u001b[39m\u001b[38;5;124m'\u001b[39m)  \u001b[38;5;66;03m# found, missing, empty, corrupt, total\u001b[39;00m\n",
      "File \u001b[0;32m/media/sayan/hdd1/CV/yolov8/ultralytics/yolo/data/dataset.py:62\u001b[0m, in \u001b[0;36mYOLODataset.cache_labels\u001b[0;34m(self, path)\u001b[0m\n\u001b[1;32m     57\u001b[0m results \u001b[38;5;241m=\u001b[39m pool\u001b[38;5;241m.\u001b[39mimap(func\u001b[38;5;241m=\u001b[39mverify_image_label,\n\u001b[1;32m     58\u001b[0m                     iterable\u001b[38;5;241m=\u001b[39m\u001b[38;5;28mzip\u001b[39m(\u001b[38;5;28mself\u001b[39m\u001b[38;5;241m.\u001b[39mim_files, \u001b[38;5;28mself\u001b[39m\u001b[38;5;241m.\u001b[39mlabel_files, repeat(\u001b[38;5;28mself\u001b[39m\u001b[38;5;241m.\u001b[39mprefix),\n\u001b[1;32m     59\u001b[0m                                  repeat(\u001b[38;5;28mself\u001b[39m\u001b[38;5;241m.\u001b[39muse_keypoints), repeat(\u001b[38;5;28mlen\u001b[39m(\u001b[38;5;28mself\u001b[39m\u001b[38;5;241m.\u001b[39mdata[\u001b[38;5;124m'\u001b[39m\u001b[38;5;124mnames\u001b[39m\u001b[38;5;124m'\u001b[39m])), repeat(nkpt),\n\u001b[1;32m     60\u001b[0m                                  repeat(ndim)))\n\u001b[1;32m     61\u001b[0m pbar \u001b[38;5;241m=\u001b[39m tqdm(results, desc\u001b[38;5;241m=\u001b[39mdesc, total\u001b[38;5;241m=\u001b[39mtotal, bar_format\u001b[38;5;241m=\u001b[39mTQDM_BAR_FORMAT)\n\u001b[0;32m---> 62\u001b[0m \u001b[38;5;28;01mfor\u001b[39;00m im_file, lb, shape, segments, keypoint, nm_f, nf_f, ne_f, nc_f, msg \u001b[38;5;129;01min\u001b[39;00m pbar:\n\u001b[1;32m     63\u001b[0m     nm \u001b[38;5;241m+\u001b[39m\u001b[38;5;241m=\u001b[39m nm_f\n\u001b[1;32m     64\u001b[0m     nf \u001b[38;5;241m+\u001b[39m\u001b[38;5;241m=\u001b[39m nf_f\n",
      "File \u001b[0;32m~/anaconda3/envs/yolov8/lib/python3.8/site-packages/tqdm/std.py:1178\u001b[0m, in \u001b[0;36mtqdm.__iter__\u001b[0;34m(self)\u001b[0m\n\u001b[1;32m   1175\u001b[0m time \u001b[38;5;241m=\u001b[39m \u001b[38;5;28mself\u001b[39m\u001b[38;5;241m.\u001b[39m_time\n\u001b[1;32m   1177\u001b[0m \u001b[38;5;28;01mtry\u001b[39;00m:\n\u001b[0;32m-> 1178\u001b[0m     \u001b[38;5;28;01mfor\u001b[39;00m obj \u001b[38;5;129;01min\u001b[39;00m iterable:\n\u001b[1;32m   1179\u001b[0m         \u001b[38;5;28;01myield\u001b[39;00m obj\n\u001b[1;32m   1180\u001b[0m         \u001b[38;5;66;03m# Update and possibly print the progressbar.\u001b[39;00m\n\u001b[1;32m   1181\u001b[0m         \u001b[38;5;66;03m# Note: does not call self.update(1) for speed optimisation.\u001b[39;00m\n",
      "File \u001b[0;32m~/anaconda3/envs/yolov8/lib/python3.8/multiprocessing/pool.py:856\u001b[0m, in \u001b[0;36mIMapIterator.next\u001b[0;34m(self, timeout)\u001b[0m\n\u001b[1;32m    854\u001b[0m     \u001b[38;5;28mself\u001b[39m\u001b[38;5;241m.\u001b[39m_pool \u001b[38;5;241m=\u001b[39m \u001b[38;5;28;01mNone\u001b[39;00m\n\u001b[1;32m    855\u001b[0m     \u001b[38;5;28;01mraise\u001b[39;00m \u001b[38;5;167;01mStopIteration\u001b[39;00m \u001b[38;5;28;01mfrom\u001b[39;00m \u001b[38;5;28;01mNone\u001b[39;00m\n\u001b[0;32m--> 856\u001b[0m \u001b[38;5;28;43mself\u001b[39;49m\u001b[38;5;241;43m.\u001b[39;49m\u001b[43m_cond\u001b[49m\u001b[38;5;241;43m.\u001b[39;49m\u001b[43mwait\u001b[49m\u001b[43m(\u001b[49m\u001b[43mtimeout\u001b[49m\u001b[43m)\u001b[49m\n\u001b[1;32m    857\u001b[0m \u001b[38;5;28;01mtry\u001b[39;00m:\n\u001b[1;32m    858\u001b[0m     item \u001b[38;5;241m=\u001b[39m \u001b[38;5;28mself\u001b[39m\u001b[38;5;241m.\u001b[39m_items\u001b[38;5;241m.\u001b[39mpopleft()\n",
      "File \u001b[0;32m~/anaconda3/envs/yolov8/lib/python3.8/threading.py:302\u001b[0m, in \u001b[0;36mCondition.wait\u001b[0;34m(self, timeout)\u001b[0m\n\u001b[1;32m    300\u001b[0m \u001b[38;5;28;01mtry\u001b[39;00m:    \u001b[38;5;66;03m# restore state no matter what (e.g., KeyboardInterrupt)\u001b[39;00m\n\u001b[1;32m    301\u001b[0m     \u001b[38;5;28;01mif\u001b[39;00m timeout \u001b[38;5;129;01mis\u001b[39;00m \u001b[38;5;28;01mNone\u001b[39;00m:\n\u001b[0;32m--> 302\u001b[0m         \u001b[43mwaiter\u001b[49m\u001b[38;5;241;43m.\u001b[39;49m\u001b[43macquire\u001b[49m\u001b[43m(\u001b[49m\u001b[43m)\u001b[49m\n\u001b[1;32m    303\u001b[0m         gotit \u001b[38;5;241m=\u001b[39m \u001b[38;5;28;01mTrue\u001b[39;00m\n\u001b[1;32m    304\u001b[0m     \u001b[38;5;28;01melse\u001b[39;00m:\n",
      "\u001b[0;31mKeyboardInterrupt\u001b[0m: "
     ]
    }
   ],
   "source": [
    "from ultralytics import YOLO\n",
    "# from ultralytics.yolo.engine.model import YOLO\n",
    "\n",
    "model = YOLO(\"yolov8m-seg.pt\")\n",
    "model.train(data=\"data/yolov8.yaml\", epochs=500, imgsz=1024, batch=6)"
   ]
  },
  {
   "cell_type": "code",
   "execution_count": 23,
   "id": "7f17f0b2",
   "metadata": {
    "papermill": {
     "duration": 1.227575,
     "end_time": "2023-06-25T09:40:58.125174",
     "exception": false,
     "start_time": "2023-06-25T09:40:56.897599",
     "status": "completed"
    },
    "tags": []
   },
   "outputs": [
    {
     "name": "stderr",
     "output_type": "stream",
     "text": [
      "Ultralytics YOLOv8.0.28 🚀 Python-3.8.17 torch-1.11.0+cu113 CUDA:0 (NVIDIA GeForce RTX 3090 Ti, 24248MiB)\n",
      "YOLOv8m-seg summary (fused): 245 layers, 27224700 parameters, 0 gradients, 110.0 GFLOPs\n",
      "\n",
      "image 1/1 /media/sayan/hdd1/CV/bangla_layout_understanding/yolov8/dataset/images/validation/0a90eca6-0138-4bb8-8376-2050d294e8ad.png: 1024x736 29 paragraphs, 32 text_boxs, 16.2ms\n",
      "Speed: 0.3ms pre-process, 16.2ms inference, 1.7ms postprocess per image at shape (1, 3, 1024, 1024)\n"
     ]
    }
   ],
   "source": [
    "# from ultralytics import YOLO\n",
    "from ultralytics.yolo.engine.model import YOLO\n",
    "# Load a model\n",
    "# model = YOLO('config/yolov8.yaml')  # build a new model from scratch\n",
    "model = YOLO('./runs/segment/train5/weights/best.pt')  # load a pretrained model (recommended for training)\n",
    "\n",
    "# Use the model\n",
    "# results = model.train(data='coco128.yaml', epochs=3)  # train the model\n",
    "# results = model.eval()  # evaluate model performance on the validation set\n",
    "results = model('/media/sayan/hdd1/CV/bangla_layout_understanding/yolov8/dataset/images/validation/0a90eca6-0138-4bb8-8376-2050d294e8ad.png')  # predict on an image"
   ]
  },
  {
   "cell_type": "code",
   "execution_count": 24,
   "id": "489b8f33",
   "metadata": {
    "papermill": {
     "duration": 1.120649,
     "end_time": "2023-06-25T09:41:00.371635",
     "exception": false,
     "start_time": "2023-06-25T09:40:59.250986",
     "status": "completed"
    },
    "tags": []
   },
   "outputs": [
    {
     "data": {
      "text/plain": [
       "[Ultralytics YOLO <class 'ultralytics.yolo.engine.results.Boxes'> masks\n",
       " type: <class 'torch.Tensor'>\n",
       " shape: torch.Size([61, 6])\n",
       " dtype: torch.float32\n",
       "  + tensor([[3.50000e+01, 2.02000e+02, 6.29000e+02, 3.02000e+02, 8.10269e-01, 0.00000e+00],\n",
       "         [3.70000e+01, 1.58000e+02, 6.45000e+02, 1.94000e+02, 6.13874e-01, 0.00000e+00],\n",
       "         [3.70000e+01, 1.25000e+02, 2.69000e+02, 1.46000e+02, 5.91340e-01, 1.00000e+00],\n",
       "         [4.00000e+01, 6.68000e+02, 2.01000e+02, 6.87000e+02, 5.75519e-01, 1.00000e+00],\n",
       "         [1.36000e+02, 4.23000e+02, 6.26000e+02, 4.84000e+02, 5.64348e-01, 0.00000e+00],\n",
       "         [1.32000e+02, 4.87000e+02, 6.27000e+02, 5.26000e+02, 5.38116e-01, 0.00000e+00],\n",
       "         [8.90000e+01, 3.68000e+02, 1.07000e+02, 3.80000e+02, 5.38042e-01, 1.00000e+00],\n",
       "         [1.36000e+02, 3.77000e+02, 6.25000e+02, 4.27000e+02, 5.31771e-01, 0.00000e+00],\n",
       "         [4.30000e+01, 9.30000e+02, 6.40000e+01, 9.41000e+02, 5.24673e-01, 1.00000e+00],\n",
       "         [4.30000e+01, 7.53000e+02, 5.70000e+01, 7.64000e+02, 5.14492e-01, 1.00000e+00],\n",
       "         [8.60000e+01, 3.17000e+02, 1.08000e+02, 3.32000e+02, 4.92524e-01, 1.00000e+00],\n",
       "         [9.00000e+01, 3.52000e+02, 1.08000e+02, 3.63000e+02, 4.89432e-01, 1.00000e+00],\n",
       "         [4.40000e+01, 7.37000e+02, 6.10000e+01, 7.48000e+02, 4.81151e-01, 1.00000e+00],\n",
       "         [4.20000e+01, 9.46000e+02, 6.30000e+01, 9.57000e+02, 4.69675e-01, 1.00000e+00],\n",
       "         [8.90000e+01, 3.84000e+02, 1.08000e+02, 3.96000e+02, 4.62976e-01, 1.00000e+00],\n",
       "         [2.55000e+02, 4.40000e+01, 4.07000e+02, 9.30000e+01, 4.62938e-01, 1.00000e+00],\n",
       "         [4.79000e+02, 1.22000e+02, 6.01000e+02, 1.40000e+02, 4.58144e-01, 1.00000e+00],\n",
       "         [4.30000e+01, 7.20000e+02, 5.90000e+01, 7.31000e+02, 4.57440e-01, 1.00000e+00],\n",
       "         [8.80000e+01, 4.00000e+02, 1.09000e+02, 4.13000e+02, 4.56846e-01, 1.00000e+00],\n",
       "         [8.80000e+01, 3.36000e+02, 1.08000e+02, 3.47000e+02, 4.50473e-01, 1.00000e+00],\n",
       "         [4.95000e+02, 6.17000e+02, 5.82000e+02, 6.67000e+02, 4.43186e-01, 1.00000e+00],\n",
       "         [4.20000e+01, 8.49000e+02, 6.50000e+01, 8.61000e+02, 4.39965e-01, 1.00000e+00],\n",
       "         [4.30000e+01, 7.68000e+02, 5.90000e+01, 7.80000e+02, 4.26757e-01, 1.00000e+00],\n",
       "         [2.56000e+02, 9.10000e+01, 4.09000e+02, 1.14000e+02, 4.24685e-01, 1.00000e+00],\n",
       "         [1.40000e+02, 3.27000e+02, 6.26000e+02, 3.61000e+02, 4.22907e-01, 0.00000e+00],\n",
       "         [4.20000e+01, 9.12000e+02, 6.40000e+01, 9.26000e+02, 4.09410e-01, 1.00000e+00],\n",
       "         [4.20000e+01, 7.03000e+02, 5.90000e+01, 7.16000e+02, 4.02749e-01, 1.00000e+00],\n",
       "         [8.80000e+01, 5.58000e+02, 1.13000e+02, 5.72000e+02, 3.92249e-01, 1.00000e+00],\n",
       "         [2.54000e+02, 4.50000e+01, 4.08000e+02, 1.13000e+02, 3.84192e-01, 1.00000e+00],\n",
       "         [1.43000e+02, 3.62000e+02, 4.36000e+02, 3.79000e+02, 3.80003e-01, 0.00000e+00],\n",
       "         [1.55000e+02, 8.10000e+02, 5.88000e+02, 8.40000e+02, 3.75049e-01, 0.00000e+00],\n",
       "         [8.70000e+01, 5.26000e+02, 1.09000e+02, 5.40000e+02, 3.67134e-01, 1.00000e+00],\n",
       "         [1.26000e+02, 4.90000e+02, 5.58000e+02, 5.17000e+02, 3.65861e-01, 0.00000e+00],\n",
       "         [1.70000e+02, 8.42000e+02, 6.05000e+02, 8.63000e+02, 3.65033e-01, 0.00000e+00],\n",
       "         [5.50000e+01, 6.99000e+02, 4.81000e+02, 7.16000e+02, 3.62469e-01, 0.00000e+00],\n",
       "         [8.80000e+01, 9.20000e+02, 6.28000e+02, 9.61000e+02, 3.59895e-01, 0.00000e+00],\n",
       "         [1.34000e+02, 5.00000e+02, 6.25000e+02, 5.34000e+02, 3.59820e-01, 0.00000e+00],\n",
       "         [4.20000e+01, 8.80000e+02, 6.40000e+01, 8.94000e+02, 3.59727e-01, 1.00000e+00],\n",
       "         [8.70000e+01, 4.94000e+02, 1.10000e+02, 5.09000e+02, 3.58446e-01, 1.00000e+00],\n",
       "         [1.35000e+02, 3.16000e+02, 6.27000e+02, 3.65000e+02, 3.56361e-01, 0.00000e+00],\n",
       "         [5.60000e+01, 7.95000e+02, 4.28000e+02, 8.12000e+02, 3.45237e-01, 0.00000e+00],\n",
       "         [9.00000e+01, 8.06000e+02, 6.26000e+02, 8.42000e+02, 3.22895e-01, 0.00000e+00],\n",
       "         [8.60000e+01, 4.30000e+02, 1.09000e+02, 4.46000e+02, 3.22297e-01, 1.00000e+00],\n",
       "         [1.86000e+02, 5.20000e+02, 6.22000e+02, 5.43000e+02, 3.21642e-01, 0.00000e+00],\n",
       "         [1.07000e+02, 5.07000e+02, 5.27000e+02, 5.25000e+02, 3.17948e-01, 0.00000e+00],\n",
       "         [3.80000e+01, 8.78000e+02, 6.50000e+01, 8.96000e+02, 3.10070e-01, 1.00000e+00],\n",
       "         [1.11000e+02, 5.54000e+02, 5.37000e+02, 5.75000e+02, 3.08355e-01, 0.00000e+00],\n",
       "         [8.50000e+01, 9.08000e+02, 3.23000e+02, 9.25000e+02, 3.07288e-01, 1.00000e+00],\n",
       "         [4.30000e+01, 8.33000e+02, 6.00000e+01, 8.44000e+02, 3.03309e-01, 1.00000e+00],\n",
       "         [1.10000e+02, 5.22000e+02, 5.43000e+02, 5.43000e+02, 2.99811e-01, 0.00000e+00],\n",
       "         [1.08000e+02, 4.90000e+02, 5.27000e+02, 5.09000e+02, 2.98966e-01, 0.00000e+00],\n",
       "         [4.72000e+02, 1.18000e+02, 6.06000e+02, 1.45000e+02, 2.92636e-01, 1.00000e+00],\n",
       "         [2.78000e+02, 7.47000e+02, 4.65000e+02, 7.66000e+02, 2.92162e-01, 0.00000e+00],\n",
       "         [1.53000e+02, 8.74000e+02, 5.92000e+02, 8.94000e+02, 2.91308e-01, 0.00000e+00],\n",
       "         [4.00000e+01, 1.59000e+02, 7.60000e+01, 1.75000e+02, 2.76978e-01, 1.00000e+00],\n",
       "         [9.10000e+01, 8.76000e+02, 5.29000e+02, 8.94000e+02, 2.75311e-01, 0.00000e+00],\n",
       "         [8.70000e+01, 8.45000e+02, 6.21000e+02, 8.95000e+02, 2.71360e-01, 0.00000e+00],\n",
       "         [1.39000e+02, 4.74000e+02, 4.55000e+02, 4.91000e+02, 2.68836e-01, 0.00000e+00],\n",
       "         [8.00000e+01, 7.79000e+02, 3.15000e+02, 7.95000e+02, 2.60588e-01, 0.00000e+00],\n",
       "         [8.90000e+01, 9.24000e+02, 5.30000e+02, 9.38000e+02, 2.54768e-01, 0.00000e+00],\n",
       "         [8.70000e+01, 8.72000e+02, 6.30000e+02, 9.13000e+02, 2.54602e-01, 0.00000e+00]], device='cuda:0')Ultralytics YOLO <class 'ultralytics.yolo.engine.results.Masks'> masks\n",
       " type: <class 'torch.Tensor'>\n",
       " shape: torch.Size([61, 1024, 736])\n",
       " dtype: torch.float32\n",
       "  + tensor([[[0., 0., 0.,  ..., 0., 0., 0.],\n",
       "          [0., 0., 0.,  ..., 0., 0., 0.],\n",
       "          [0., 0., 0.,  ..., 0., 0., 0.],\n",
       "          ...,\n",
       "          [0., 0., 0.,  ..., 0., 0., 0.],\n",
       "          [0., 0., 0.,  ..., 0., 0., 0.],\n",
       "          [0., 0., 0.,  ..., 0., 0., 0.]],\n",
       " \n",
       "         [[0., 0., 0.,  ..., 0., 0., 0.],\n",
       "          [0., 0., 0.,  ..., 0., 0., 0.],\n",
       "          [0., 0., 0.,  ..., 0., 0., 0.],\n",
       "          ...,\n",
       "          [0., 0., 0.,  ..., 0., 0., 0.],\n",
       "          [0., 0., 0.,  ..., 0., 0., 0.],\n",
       "          [0., 0., 0.,  ..., 0., 0., 0.]],\n",
       " \n",
       "         [[0., 0., 0.,  ..., 0., 0., 0.],\n",
       "          [0., 0., 0.,  ..., 0., 0., 0.],\n",
       "          [0., 0., 0.,  ..., 0., 0., 0.],\n",
       "          ...,\n",
       "          [0., 0., 0.,  ..., 0., 0., 0.],\n",
       "          [0., 0., 0.,  ..., 0., 0., 0.],\n",
       "          [0., 0., 0.,  ..., 0., 0., 0.]],\n",
       " \n",
       "         ...,\n",
       " \n",
       "         [[0., 0., 0.,  ..., 0., 0., 0.],\n",
       "          [0., 0., 0.,  ..., 0., 0., 0.],\n",
       "          [0., 0., 0.,  ..., 0., 0., 0.],\n",
       "          ...,\n",
       "          [0., 0., 0.,  ..., 0., 0., 0.],\n",
       "          [0., 0., 0.,  ..., 0., 0., 0.],\n",
       "          [0., 0., 0.,  ..., 0., 0., 0.]],\n",
       " \n",
       "         [[0., 0., 0.,  ..., 0., 0., 0.],\n",
       "          [0., 0., 0.,  ..., 0., 0., 0.],\n",
       "          [0., 0., 0.,  ..., 0., 0., 0.],\n",
       "          ...,\n",
       "          [0., 0., 0.,  ..., 0., 0., 0.],\n",
       "          [0., 0., 0.,  ..., 0., 0., 0.],\n",
       "          [0., 0., 0.,  ..., 0., 0., 0.]],\n",
       " \n",
       "         [[0., 0., 0.,  ..., 0., 0., 0.],\n",
       "          [0., 0., 0.,  ..., 0., 0., 0.],\n",
       "          [0., 0., 0.,  ..., 0., 0., 0.],\n",
       "          ...,\n",
       "          [0., 0., 0.,  ..., 0., 0., 0.],\n",
       "          [0., 0., 0.,  ..., 0., 0., 0.],\n",
       "          [0., 0., 0.,  ..., 0., 0., 0.]]], device='cuda:0')]"
      ]
     },
     "execution_count": 24,
     "metadata": {},
     "output_type": "execute_result"
    }
   ],
   "source": [
    "results"
   ]
  },
  {
   "cell_type": "code",
   "execution_count": 29,
   "id": "96c33286",
   "metadata": {},
   "outputs": [
    {
     "ename": "AttributeError",
     "evalue": "\n            'Results' object has no attribute 'Masks'. Valid 'Results' object attributes and properties are:\n\n            Attributes:\n                boxes (Boxes, optional): A Boxes object containing the detection bounding boxes.\n                masks (Masks, optional): A Masks object containing the detection masks.\n                probs (torch.Tensor, optional): A tensor containing the detection class probabilities.\n                orig_shape (tuple, optional): Original image size.\n            ",
     "output_type": "error",
     "traceback": [
      "\u001b[0;31m---------------------------------------------------------------------------\u001b[0m",
      "\u001b[0;31mAttributeError\u001b[0m                            Traceback (most recent call last)",
      "Cell \u001b[0;32mIn[29], line 1\u001b[0m\n\u001b[0;32m----> 1\u001b[0m \u001b[43mresults\u001b[49m\u001b[43m[\u001b[49m\u001b[38;5;241;43m0\u001b[39;49m\u001b[43m]\u001b[49m\u001b[38;5;241;43m.\u001b[39;49m\u001b[43mMasks\u001b[49m\u001b[38;5;241m.\u001b[39mmasks\n",
      "File \u001b[0;32m~/anaconda3/envs/yolov8/lib/python3.8/site-packages/ultralytics/yolo/engine/results.py:103\u001b[0m, in \u001b[0;36mResults.__getattr__\u001b[0;34m(self, attr)\u001b[0m\n\u001b[1;32m    101\u001b[0m \u001b[38;5;28;01mdef\u001b[39;00m \u001b[38;5;21m__getattr__\u001b[39m(\u001b[38;5;28mself\u001b[39m, attr):\n\u001b[1;32m    102\u001b[0m     name \u001b[38;5;241m=\u001b[39m \u001b[38;5;28mself\u001b[39m\u001b[38;5;241m.\u001b[39m\u001b[38;5;18m__class__\u001b[39m\u001b[38;5;241m.\u001b[39m\u001b[38;5;18m__name__\u001b[39m\n\u001b[0;32m--> 103\u001b[0m     \u001b[38;5;28;01mraise\u001b[39;00m \u001b[38;5;167;01mAttributeError\u001b[39;00m(\u001b[38;5;124mf\u001b[39m\u001b[38;5;124m\"\"\"\u001b[39m\n\u001b[1;32m    104\u001b[0m \u001b[38;5;124m        \u001b[39m\u001b[38;5;124m'\u001b[39m\u001b[38;5;132;01m{\u001b[39;00mname\u001b[38;5;132;01m}\u001b[39;00m\u001b[38;5;124m'\u001b[39m\u001b[38;5;124m object has no attribute \u001b[39m\u001b[38;5;124m'\u001b[39m\u001b[38;5;132;01m{\u001b[39;00mattr\u001b[38;5;132;01m}\u001b[39;00m\u001b[38;5;124m'\u001b[39m\u001b[38;5;124m. Valid \u001b[39m\u001b[38;5;124m'\u001b[39m\u001b[38;5;132;01m{\u001b[39;00mname\u001b[38;5;132;01m}\u001b[39;00m\u001b[38;5;124m'\u001b[39m\u001b[38;5;124m object attributes and properties are:\u001b[39m\n\u001b[1;32m    105\u001b[0m \n\u001b[1;32m    106\u001b[0m \u001b[38;5;124m        Attributes:\u001b[39m\n\u001b[1;32m    107\u001b[0m \u001b[38;5;124m            boxes (Boxes, optional): A Boxes object containing the detection bounding boxes.\u001b[39m\n\u001b[1;32m    108\u001b[0m \u001b[38;5;124m            masks (Masks, optional): A Masks object containing the detection masks.\u001b[39m\n\u001b[1;32m    109\u001b[0m \u001b[38;5;124m            probs (torch.Tensor, optional): A tensor containing the detection class probabilities.\u001b[39m\n\u001b[1;32m    110\u001b[0m \u001b[38;5;124m            orig_shape (tuple, optional): Original image size.\u001b[39m\n\u001b[1;32m    111\u001b[0m \u001b[38;5;124m        \u001b[39m\u001b[38;5;124m\"\"\"\u001b[39m)\n",
      "\u001b[0;31mAttributeError\u001b[0m: \n            'Results' object has no attribute 'Masks'. Valid 'Results' object attributes and properties are:\n\n            Attributes:\n                boxes (Boxes, optional): A Boxes object containing the detection bounding boxes.\n                masks (Masks, optional): A Masks object containing the detection masks.\n                probs (torch.Tensor, optional): A tensor containing the detection class probabilities.\n                orig_shape (tuple, optional): Original image size.\n            "
     ]
    }
   ],
   "source": [
    "results[0].Masks.masks"
   ]
  },
  {
   "cell_type": "code",
   "execution_count": 25,
   "id": "28419ec6",
   "metadata": {
    "papermill": {
     "duration": 1.121709,
     "end_time": "2023-06-25T09:41:02.730544",
     "exception": false,
     "start_time": "2023-06-25T09:41:01.608835",
     "status": "completed"
    },
    "tags": []
   },
   "outputs": [
    {
     "data": {
      "text/plain": [
       "tensor([[ 35., 202., 629., 302.],\n",
       "        [ 37., 158., 645., 194.],\n",
       "        [ 37., 125., 269., 146.],\n",
       "        [ 40., 668., 201., 687.],\n",
       "        [136., 423., 626., 484.],\n",
       "        [132., 487., 627., 526.],\n",
       "        [ 89., 368., 107., 380.],\n",
       "        [136., 377., 625., 427.],\n",
       "        [ 43., 930.,  64., 941.],\n",
       "        [ 43., 753.,  57., 764.],\n",
       "        [ 86., 317., 108., 332.],\n",
       "        [ 90., 352., 108., 363.],\n",
       "        [ 44., 737.,  61., 748.],\n",
       "        [ 42., 946.,  63., 957.],\n",
       "        [ 89., 384., 108., 396.],\n",
       "        [255.,  44., 407.,  93.],\n",
       "        [479., 122., 601., 140.],\n",
       "        [ 43., 720.,  59., 731.],\n",
       "        [ 88., 400., 109., 413.],\n",
       "        [ 88., 336., 108., 347.],\n",
       "        [495., 617., 582., 667.],\n",
       "        [ 42., 849.,  65., 861.],\n",
       "        [ 43., 768.,  59., 780.],\n",
       "        [256.,  91., 409., 114.],\n",
       "        [140., 327., 626., 361.],\n",
       "        [ 42., 912.,  64., 926.],\n",
       "        [ 42., 703.,  59., 716.],\n",
       "        [ 88., 558., 113., 572.],\n",
       "        [254.,  45., 408., 113.],\n",
       "        [143., 362., 436., 379.],\n",
       "        [155., 810., 588., 840.],\n",
       "        [ 87., 526., 109., 540.],\n",
       "        [126., 490., 558., 517.],\n",
       "        [170., 842., 605., 863.],\n",
       "        [ 55., 699., 481., 716.],\n",
       "        [ 88., 920., 628., 961.],\n",
       "        [134., 500., 625., 534.],\n",
       "        [ 42., 880.,  64., 894.],\n",
       "        [ 87., 494., 110., 509.],\n",
       "        [135., 316., 627., 365.],\n",
       "        [ 56., 795., 428., 812.],\n",
       "        [ 90., 806., 626., 842.],\n",
       "        [ 86., 430., 109., 446.],\n",
       "        [186., 520., 622., 543.],\n",
       "        [107., 507., 527., 525.],\n",
       "        [ 38., 878.,  65., 896.],\n",
       "        [111., 554., 537., 575.],\n",
       "        [ 85., 908., 323., 925.],\n",
       "        [ 43., 833.,  60., 844.],\n",
       "        [110., 522., 543., 543.],\n",
       "        [108., 490., 527., 509.],\n",
       "        [472., 118., 606., 145.],\n",
       "        [278., 747., 465., 766.],\n",
       "        [153., 874., 592., 894.],\n",
       "        [ 40., 159.,  76., 175.],\n",
       "        [ 91., 876., 529., 894.],\n",
       "        [ 87., 845., 621., 895.],\n",
       "        [139., 474., 455., 491.],\n",
       "        [ 80., 779., 315., 795.],\n",
       "        [ 89., 924., 530., 938.],\n",
       "        [ 87., 872., 630., 913.]], device='cuda:0')"
      ]
     },
     "execution_count": 25,
     "metadata": {},
     "output_type": "execute_result"
    }
   ],
   "source": [
    "results[0].boxes.xyxy"
   ]
  },
  {
   "cell_type": "code",
   "execution_count": 26,
   "id": "7491ebd8",
   "metadata": {},
   "outputs": [
    {
     "data": {
      "text/plain": [
       "tensor([0.81027, 0.61387, 0.59134, 0.57552, 0.56435, 0.53812, 0.53804, 0.53177, 0.52467, 0.51449, 0.49252, 0.48943, 0.48115, 0.46967, 0.46298, 0.46294, 0.45814, 0.45744, 0.45685, 0.45047, 0.44319, 0.43996, 0.42676, 0.42469, 0.42291, 0.40941, 0.40275, 0.39225, 0.38419, 0.38000, 0.37505, 0.36713, 0.36586, 0.36503,\n",
       "        0.36247, 0.35989, 0.35982, 0.35973, 0.35845, 0.35636, 0.34524, 0.32289, 0.32230, 0.32164, 0.31795, 0.31007, 0.30835, 0.30729, 0.30331, 0.29981, 0.29897, 0.29264, 0.29216, 0.29131, 0.27698, 0.27531, 0.27136, 0.26884, 0.26059, 0.25477, 0.25460], device='cuda:0')"
      ]
     },
     "execution_count": 26,
     "metadata": {},
     "output_type": "execute_result"
    }
   ],
   "source": [
    "results[0].boxes.conf"
   ]
  },
  {
   "cell_type": "code",
   "execution_count": 27,
   "id": "664f0af6",
   "metadata": {},
   "outputs": [
    {
     "data": {
      "text/plain": [
       "tensor([0., 0., 1., 1., 0., 0., 1., 0., 1., 1., 1., 1., 1., 1., 1., 1., 1., 1., 1., 1., 1., 1., 1., 1., 0., 1., 1., 1., 1., 0., 0., 1., 0., 0., 0., 0., 0., 1., 1., 0., 0., 0., 1., 0., 0., 1., 0., 1., 1., 0., 0., 1., 0., 0., 1., 0., 0., 0., 0., 0., 0.], device='cuda:0')"
      ]
     },
     "execution_count": 27,
     "metadata": {},
     "output_type": "execute_result"
    }
   ],
   "source": [
    "results[0].boxes.cls"
   ]
  },
  {
   "cell_type": "code",
   "execution_count": null,
   "id": "f4254c11",
   "metadata": {},
   "outputs": [],
   "source": []
  }
 ],
 "metadata": {
  "kernelspec": {
   "display_name": "Python 3 (ipykernel)",
   "language": "python",
   "name": "python3"
  },
  "language_info": {
   "codemirror_mode": {
    "name": "ipython",
    "version": 3
   },
   "file_extension": ".py",
   "mimetype": "text/x-python",
   "name": "python",
   "nbconvert_exporter": "python",
   "pygments_lexer": "ipython3",
   "version": "3.8.17"
  },
  "papermill": {
   "default_parameters": {},
   "duration": 16717.500112,
   "end_time": "2023-06-25T09:41:09.663144",
   "environment_variables": {},
   "exception": null,
   "input_path": "__notebook__.ipynb",
   "output_path": "__notebook__.ipynb",
   "parameters": {},
   "start_time": "2023-06-25T05:02:32.163032",
   "version": "2.4.0"
  }
 },
 "nbformat": 4,
 "nbformat_minor": 5
}
